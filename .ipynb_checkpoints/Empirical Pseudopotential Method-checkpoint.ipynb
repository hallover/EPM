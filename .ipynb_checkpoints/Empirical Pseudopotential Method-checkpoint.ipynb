{
 "cells": [
  {
   "cell_type": "code",
   "execution_count": 2,
   "metadata": {
    "collapsed": true
   },
   "outputs": [],
   "source": [
    "import numpy as np"
   ]
  },
  {
   "cell_type": "code",
   "execution_count": 3,
   "metadata": {
    "collapsed": true
   },
   "outputs": [],
   "source": [
    "# d2 = [a/4,a/4,a/4]\n",
    "# 1/delta[i,j]*(V1pseudo*(h[i]-h[j])+np.exp(-i*(h[i]-h[j]*d2)*V2pseudo))+ k[i] ** 2"
   ]
  },
  {
   "cell_type": "code",
   "execution_count": 4,
   "metadata": {
    "collapsed": true
   },
   "outputs": [],
   "source": [
    "# A = []\n",
    "# A[i,j]=ki**2 * dij(i,j) + V1(hi-hj) + np.exp(-i*(hi-hj) * d2)*V2(hi-hj)"
   ]
  },
  {
   "cell_type": "code",
   "execution_count": 5,
   "metadata": {
    "collapsed": true
   },
   "outputs": [],
   "source": [
    "def dij(i,j):\n",
    "    if i == j:\n",
    "        return 1\n",
    "    else:\n",
    "        return 0"
   ]
  },
  {
   "cell_type": "code",
   "execution_count": 12,
   "metadata": {},
   "outputs": [
    {
     "name": "stdout",
     "output_type": "stream",
     "text": [
      "[ 1.83718869 -1.83718869 -1.83718869]\n",
      "[ 1.22479246 -1.22479246 -1.22479246]\n",
      "[ 0.         -1.22479246 -1.22479246]\n",
      "[ 0.61239623 -0.61239623 -0.61239623]\n",
      "[-1.22479246  0.         -1.22479246]\n",
      "[-1.22479246 -1.22479246  0.        ]\n",
      "[-0.61239623 -0.61239623 -0.61239623]\n",
      "[ 0.          0.         -1.22479246]\n",
      "[ 0.         -1.22479246  0.        ]\n",
      "[ 0.61239623 -0.61239623 -0.61239623]\n",
      "[ 1.22479246  0.         -1.22479246]\n",
      "[ 1.22479246 -1.22479246  0.        ]\n",
      "[-0.  0.  0.]\n",
      "[-1.22479246  0.          0.        ]\n",
      "[-0.61239623  0.61239623 -0.61239623]\n",
      "[ 0.          1.22479246 -1.22479246]\n",
      "[-0.61239623 -0.61239623  0.61239623]\n",
      "[ 0.  0.  0.]\n",
      "[ 0.61239623  0.61239623 -0.61239623]\n",
      "[ 0.         -1.22479246  1.22479246]\n",
      "[ 0.61239623 -0.61239623  0.61239623]\n",
      "[ 1.22479246  0.          0.        ]\n",
      "[-0.61239623  0.61239623  0.61239623]\n",
      "[-1.22479246  1.22479246  0.        ]\n",
      "[-1.22479246  0.          1.22479246]\n",
      "[-0.61239623  0.61239623  0.61239623]\n",
      "[ 0.          1.22479246  0.        ]\n",
      "[ 0.          0.          1.22479246]\n",
      "[ 0.61239623  0.61239623  0.61239623]\n",
      "[ 1.22479246  1.22479246  0.        ]\n",
      "[ 1.22479246  0.          1.22479246]\n",
      "[-1.22479246  1.22479246  1.22479246]\n",
      "[ 0.          1.22479246  1.22479246]\n",
      "[-1.83718869  1.83718869  1.83718869]\n",
      "[-2.44958492  2.44958492  2.44958492]\n",
      "[-3.06198114  3.06198114  3.06198114]\n",
      "[-3.67437737  3.67437737  3.67437737]\n",
      "[-4.2867736  4.2867736  4.2867736]\n",
      "[-4.89916983  4.89916983  4.89916983]\n",
      "[-5.51156606  5.51156606  5.51156606]\n"
     ]
    }
   ],
   "source": [
    "# define all h_i points\n",
    "\n",
    "a = 10.26\n",
    "r = (2 * np.pi)/a * np.sqrt(11)\n",
    "\n",
    "rlv1 = [-2 * np.pi / a, 2 * np.pi / a, 2 * np.pi / a]\n",
    "rlv2 = [2 * np.pi / a, -2 * np.pi / a, 2 * np.pi / a]\n",
    "rlv3 = [2 * np.pi / a, 2 * np.pi / a, -2 * np.pi / a]\n",
    "\n",
    "rlv1 = np.asarray(rlv1)\n",
    "rlv2 = np.asarray(rlv2)\n",
    "rlv3 = np.asarray(rlv3)\n",
    "\n",
    "V = 4/3 * np.pi * r**3\n",
    "# nh = r / rlv\n",
    "h = []\n",
    "for i in range(-3,4):\n",
    "    h1 = rlv1 * i\n",
    "    print(h1)\n",
    "    \n",
    "    for j in range(-3,4):\n",
    "        h2 = rlv2 * j\n",
    "        \n",
    "        for k in range(-3,4):\n",
    "            h3 = rlv3 * k\n",
    "            \n",
    "            hv = h1 + h2 + h3\n",
    "            if np.sqrt(np.dot(hv,hv)) < r:\n",
    "                \n",
    "                h.append(hv)\n",
    "                print(hv)\n",
    "            \n",
    "# "
   ]
  },
  {
   "cell_type": "code",
   "execution_count": 13,
   "metadata": {},
   "outputs": [
    {
     "name": "stdout",
     "output_type": "stream",
     "text": [
      "27\n"
     ]
    }
   ],
   "source": [
    "print(len(h))"
   ]
  },
  {
   "cell_type": "code",
   "execution_count": 14,
   "metadata": {
    "collapsed": true
   },
   "outputs": [],
   "source": [
    "# print(h)"
   ]
  },
  {
   "cell_type": "code",
   "execution_count": null,
   "metadata": {
    "collapsed": true
   },
   "outputs": [],
   "source": []
  }
 ],
 "metadata": {
  "kernelspec": {
   "display_name": "Python 2",
   "language": "python",
   "name": "python2"
  },
  "language_info": {
   "codemirror_mode": {
    "name": "ipython",
    "version": 2
   },
   "file_extension": ".py",
   "mimetype": "text/x-python",
   "name": "python",
   "nbconvert_exporter": "python",
   "pygments_lexer": "ipython2",
   "version": "2.7.12"
  }
 },
 "nbformat": 4,
 "nbformat_minor": 2
}
