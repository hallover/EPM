{
 "cells": [
  {
   "cell_type": "code",
   "execution_count": 1,
   "metadata": {
    "collapsed": true
   },
   "outputs": [],
   "source": [
    "from matplotlib import pyplot as plt\n",
    "import numpy as np\n",
    "from mpl_toolkits.mplot3d import Axes3D\n",
    "import ase.dft.kpoints as kpt"
   ]
  },
  {
   "cell_type": "code",
   "execution_count": 2,
   "metadata": {
    "collapsed": true
   },
   "outputs": [],
   "source": [
    "def dij(i,j):\n",
    "    if i == j:\n",
    "        return 1\n",
    "    else:\n",
    "        return 0"
   ]
  },
  {
   "cell_type": "code",
   "execution_count": 3,
   "metadata": {
    "collapsed": true
   },
   "outputs": [],
   "source": [
    "#initialize variables\n",
    "\n",
    "a = 10.26\n",
    "r = (2 * np.pi)/a * np.sqrt(11)\n",
    "# r = np.sqrt(11)\n",
    "\n",
    "\n",
    "rlv1 = [-2 * np.pi / a, 2 * np.pi / a, 2 * np.pi / a]\n",
    "rlv2 = [2 * np.pi / a, -2 * np.pi / a, 2 * np.pi / a]\n",
    "rlv3 = [2 * np.pi / a, 2 * np.pi / a, -2 * np.pi / a]\n",
    "\n",
    "\n",
    "# rlv1 = [-1,1,1]\n",
    "# rlv2 = [1,-1,1]\n",
    "# rlv3 = [1,1,-1]\n",
    "\n",
    "\n",
    "rlv1 = np.asarray(rlv1)\n",
    "rlv2 = np.asarray(rlv2)\n",
    "rlv3 = np.asarray(rlv3)\n",
    "\n",
    "V = 4/3 * np.pi * r**3\n"
   ]
  },
  {
   "cell_type": "code",
   "execution_count": 4,
   "metadata": {},
   "outputs": [
    {
     "name": "stdout",
     "output_type": "stream",
     "text": [
      "51\n"
     ]
    }
   ],
   "source": [
    "# define all h_i points\n",
    "\n",
    "h = []\n",
    "for i in range(-3,4):\n",
    "    h1 = rlv1 * i\n",
    "    \n",
    "    for j in range(-3,4):\n",
    "        h2 = rlv2 * j\n",
    "        \n",
    "        for k in range(-3,4):\n",
    "            h3 = rlv3 * k\n",
    "            \n",
    "            hv = h1 + h2 + h3\n",
    "            hv = np.asarray(hv)\n",
    "            if np.sqrt(np.dot(hv,hv)) <= r:\n",
    "                h.append(hv)\n",
    "\n",
    "h = np.asarray(h)\n",
    "print(len(h))"
   ]
  },
  {
   "cell_type": "code",
   "execution_count": 5,
   "metadata": {},
   "outputs": [
    {
     "data": {
      "image/png": "[encoded data removed]",
      "text/plain": [
       "<matplotlib.figure.Figure at 0x7f1a2ec90f10>"
      ]
     },
     "metadata": {},
     "output_type": "display_data"
    }
   ],
   "source": [
    "# plots the points described by vectors 'h' in 3d scatterplot\n",
    "\n",
    "fig = plt.figure()\n",
    "ax = fig.add_subplot(111, projection='3d')\n",
    "ax.scatter(h[:,0],h[:,1],h[:,2])\n",
    "plt.show()"
   ]
  },
  {
   "cell_type": "code",
   "execution_count": 6,
   "metadata": {
    "collapsed": true
   },
   "outputs": [],
   "source": [
    "# print(EnergyList)\n",
    "# EnergyList = np.asarray(EnergyList)\n",
    "# K = [[0,0,0],\n",
    "#      [0,.5,.5],\n",
    "#      [1./2,1./2,1./2],\n",
    "#      [1./4,3./4,1./2],\n",
    "#      [1./4,5./8,5./8],\n",
    "#      [3./8,3./4,3./8]]\n",
    "\n",
    "K = [[0,0,0],\n",
    "     [0,2*np.pi/a,0],\n",
    "     [np.pi/a,np.pi/a,np.pi/a],\n",
    "     [np.pi/a, 2*np.pi/a,0],\n",
    "     [np.pi/(2*a), 2*np.pi/a, np.pi/(2*a)],\n",
    "     [3*np.pi/(2*a), 3*np.pi/(2*a), 0]]\n",
    "\n",
    "E = np.empty([len(K),len(h),len(h)],dtype=complex)\n",
    "\n",
    "d2 = np.array([a/4,a/4,a/4])\n",
    "# d2 = a/4\n",
    "\n",
    "\n",
    "\n",
    "for kk in range(0,len(K)):\n",
    "    for i in range(0,len(h)):\n",
    "        for j in range(0,len(h)):\n",
    "            d = dij(i,j)\n",
    "            kDif = K[kk]-h[i]\n",
    "            k2 = np.dot(kDif,kDif)\n",
    "            \n",
    "            hDif = h[i] - h[j]\n",
    "            \n",
    "            hDot = np.sqrt(np.dot(hDif,hDif))\n",
    "            \n",
    "            if hDot == 2*np.pi /a * np.sqrt(3):\n",
    "                v = (-.21)\n",
    "\n",
    "            elif hDot == 2*np.pi /a * np.sqrt(8):\n",
    "                v = (.04)\n",
    "\n",
    "            elif hDot == 2*np.pi /a * np.sqrt(11):\n",
    "                v = (.08)\n",
    "                \n",
    "            else:\n",
    "                v = 0\n",
    "            \n",
    "            e = k2 * d + v + np.exp(-1j * np.dot(hDif,d2)) * v\n",
    "#             print(k2)\n",
    "#             print(d)\n",
    "#             print(hDot)\n",
    "#             print(v)\n",
    "#             print(np.exp(-1j * (hDot) * d2))\n",
    "#             print(e)\n",
    "            E[kk,i,j] = e \n",
    "# print(np.linalg.eig(E[0]))\n",
    "# print(E[0])\n",
    "\n",
    "# Test if E[i] is symmetric and Hermitian\n",
    "    np.allclose(E[kk], E[kk].T, atol=1.0e-8)\n",
    "    ETran = E[kk].T\n",
    "    ETranConj =  np.conj(ETran)\n",
    "#     ETranConj = np.asarray(ETranConj)\n",
    "#     print(np.allclose(E[kk],ETranConj,1.e-8))\n",
    "#     print(type(E[kk]))\n",
    "#     print(E[kk])\n",
    "#     print(ETranConj)\n",
    "#     print(type(ETranConj))\n",
    "#     print(\"--------------------------www-----------------------------\")\n",
    "    \n",
    "    \n",
    "    \n"
   ]
  },
  {
   "cell_type": "code",
   "execution_count": 7,
   "metadata": {
    "collapsed": true
   },
   "outputs": [],
   "source": [
    "EignValVec = []\n",
    "\n",
    "for i in E:\n",
    "    EignValVec.append(np.linalg.eigh(i))"
   ]
  },
  {
   "cell_type": "code",
   "execution_count": 8,
   "metadata": {
    "collapsed": true
   },
   "outputs": [],
   "source": [
    "EignVal = []\n",
    "EignVec = []\n",
    "\n",
    "for i in EignValVec:\n",
    "    \n",
    "#     print(i[0])\n",
    "    EignVal.append(i[0])\n",
    "    EignVec.append(i[1])\n"
   ]
  },
  {
   "cell_type": "code",
   "execution_count": 9,
   "metadata": {
    "collapsed": true
   },
   "outputs": [],
   "source": [
    "# for i in range(0,len(EignValVec[i])):\n",
    "#     print(EignValVec[i][0])\n",
    "    "
   ]
  },
  {
   "cell_type": "code",
   "execution_count": 10,
   "metadata": {
    "collapsed": true
   },
   "outputs": [],
   "source": [
    "# print(EignVal)"
   ]
  },
  {
   "cell_type": "code",
   "execution_count": 11,
   "metadata": {
    "collapsed": true
   },
   "outputs": [],
   "source": [
    "# High-symmetry points in the Brillouin zone\n",
    "points = kpt.ibz_points['fcc']\n",
    "G = points['Gamma']\n",
    "X = points['X']\n",
    "XN = np.array([0.5, 0.5, 1.0])\n",
    "W = points['W']\n",
    "K = points['K']\n",
    "L = points['L']\n",
    "U = points['U']\n",
    "\n",
    "point_names = ['$\\Gamma$', 'K', 'X', 'W', \"X'\", '$\\Gamma$', 'L']\n",
    "# path = [G, K, XN, W, X, G, L]\n",
    "path = [W, G, X, W, L, G]\n",
    "\n",
    "\n",
    "\n",
    "# This code is from Conrad Rosenbrock"
   ]
  },
  {
   "cell_type": "code",
   "execution_count": 12,
   "metadata": {
    "collapsed": true
   },
   "outputs": [],
   "source": [
    "# N = 11\n",
    "# x1 = np.linspace(0, 4, N, endpoint=True)\n",
    "# k_x = np.linspace(0, 4, N, endpoint=True)\n",
    "# k_y = np.linspace(0, 4, N, endpoint=True)\n",
    "# k_z = np.linspace(0, 4, N, endpoint=True)\n",
    "# for n in range(0, N):\n",
    "#     if (x1[n] >= 0) & (x1[n] < 1):\n",
    "#         k_x[n] = math.pi/a*(1 - x1[n])\n",
    "#         k_y[n] = math.pi/a*(1 - x1[n])\n",
    "#         k_z[n] = math.pi/a*(1 - x1[n])\n",
    "#     elif (x1[n] >= 1) & (x1[n] < 2):\n",
    "#         k_x[n] = 0\n",
    "#         k_y[n] = 2*math.pi/a*(x1[n] - 1)\n",
    "#         k_z[n] = 0\n",
    "#     elif (x1[n] >= 2) & (x1[n] < 3):\n",
    "#         k_x[n] = math.pi/(2*a)*(x1[n] - 2)\n",
    "#         k_y[n] = 2*math.pi/a\n",
    "#         k_z[n] = math.pi/(2*a)*(x1[n] - 2)\n",
    "#     elif (x1[n] >= 3) & (x1[n] <= 4):\n",
    "#         k_x[n] = 3*math.pi/(2*a)*(x1[n] - 8/3)\n",
    "#         k_y[n] = 2*math.pi/a\n",
    "#         k_z[n] = 3*math.pi/(2*a)*(x1[n] - 8/3)\n",
    "#     else:\n",
    "#         k_x[n] = 0\n",
    "#         k_y[n] = 0\n",
    "#         k_z[n] = 0\n",
    "        \n",
    "# This section of code by Kacey Leavitt"
   ]
  },
  {
   "cell_type": "code",
   "execution_count": 13,
   "metadata": {
    "scrolled": true
   },
   "outputs": [
    {
     "name": "stdout",
     "output_type": "stream",
     "text": [
      "[[ 0.5         0.25        0.75      ]\n",
      " [ 0.48333333  0.24166667  0.725     ]\n",
      " [ 0.46666667  0.23333333  0.7       ]\n",
      " [ 0.45        0.225       0.675     ]\n",
      " [ 0.43333333  0.21666667  0.65      ]\n",
      " [ 0.41666667  0.20833333  0.625     ]\n",
      " [ 0.4         0.2         0.6       ]\n",
      " [ 0.38333333  0.19166667  0.575     ]\n",
      " [ 0.36666667  0.18333333  0.55      ]\n",
      " [ 0.35        0.175       0.525     ]\n",
      " [ 0.33333333  0.16666667  0.5       ]\n",
      " [ 0.31666667  0.15833333  0.475     ]\n",
      " [ 0.3         0.15        0.45      ]\n",
      " [ 0.28333333  0.14166667  0.425     ]\n",
      " [ 0.26666667  0.13333333  0.4       ]\n",
      " [ 0.25        0.125       0.375     ]\n",
      " [ 0.23333333  0.11666667  0.35      ]\n",
      " [ 0.21666667  0.10833333  0.325     ]\n",
      " [ 0.2         0.1         0.3       ]\n",
      " [ 0.18333333  0.09166667  0.275     ]\n",
      " [ 0.16666667  0.08333333  0.25      ]\n",
      " [ 0.15        0.075       0.225     ]\n",
      " [ 0.13333333  0.06666667  0.2       ]\n",
      " [ 0.11666667  0.05833333  0.175     ]\n",
      " [ 0.1         0.05        0.15      ]\n",
      " [ 0.08333333  0.04166667  0.125     ]\n",
      " [ 0.06666667  0.03333333  0.1       ]\n",
      " [ 0.05        0.025       0.075     ]\n",
      " [ 0.03333333  0.01666667  0.05      ]\n",
      " [ 0.01666667  0.00833333  0.025     ]\n",
      " [ 0.          0.          0.        ]\n",
      " [ 0.02380952  0.          0.02380952]\n",
      " [ 0.04761905  0.          0.04761905]\n",
      " [ 0.07142857  0.          0.07142857]\n",
      " [ 0.0952381   0.          0.0952381 ]\n",
      " [ 0.11904762  0.          0.11904762]\n",
      " [ 0.14285714  0.          0.14285714]\n",
      " [ 0.16666667  0.          0.16666667]\n",
      " [ 0.19047619  0.          0.19047619]\n",
      " [ 0.21428571  0.          0.21428571]\n",
      " [ 0.23809524  0.          0.23809524]\n",
      " [ 0.26190476  0.          0.26190476]\n",
      " [ 0.28571429  0.          0.28571429]\n",
      " [ 0.30952381  0.          0.30952381]\n",
      " [ 0.33333333  0.          0.33333333]\n",
      " [ 0.35714286  0.          0.35714286]\n",
      " [ 0.38095238  0.          0.38095238]\n",
      " [ 0.4047619   0.          0.4047619 ]\n",
      " [ 0.42857143  0.          0.42857143]\n",
      " [ 0.45238095  0.          0.45238095]\n",
      " [ 0.47619048  0.          0.47619048]\n",
      " [ 0.5         0.          0.5       ]\n",
      " [ 0.5         0.025       0.525     ]\n",
      " [ 0.5         0.05        0.55      ]\n",
      " [ 0.5         0.075       0.575     ]\n",
      " [ 0.5         0.1         0.6       ]\n",
      " [ 0.5         0.125       0.625     ]\n",
      " [ 0.5         0.15        0.65      ]\n",
      " [ 0.5         0.175       0.675     ]\n",
      " [ 0.5         0.2         0.7       ]\n",
      " [ 0.5         0.225       0.725     ]\n",
      " [ 0.5         0.25        0.75      ]\n",
      " [ 0.5         0.29166667  0.70833333]\n",
      " [ 0.5         0.33333333  0.66666667]\n",
      " [ 0.5         0.375       0.625     ]\n",
      " [ 0.5         0.41666667  0.58333333]\n",
      " [ 0.5         0.45833333  0.54166667]\n",
      " [ 0.5         0.5         0.5       ]\n",
      " [ 0.484375    0.484375    0.484375  ]\n",
      " [ 0.46875     0.46875     0.46875   ]\n",
      " [ 0.453125    0.453125    0.453125  ]\n",
      " [ 0.4375      0.4375      0.4375    ]\n",
      " [ 0.421875    0.421875    0.421875  ]\n",
      " [ 0.40625     0.40625     0.40625   ]\n",
      " [ 0.390625    0.390625    0.390625  ]\n",
      " [ 0.375       0.375       0.375     ]\n",
      " [ 0.359375    0.359375    0.359375  ]\n",
      " [ 0.34375     0.34375     0.34375   ]\n",
      " [ 0.328125    0.328125    0.328125  ]\n",
      " [ 0.3125      0.3125      0.3125    ]\n",
      " [ 0.296875    0.296875    0.296875  ]\n",
      " [ 0.28125     0.28125     0.28125   ]\n",
      " [ 0.265625    0.265625    0.265625  ]\n",
      " [ 0.25        0.25        0.25      ]\n",
      " [ 0.234375    0.234375    0.234375  ]\n",
      " [ 0.21875     0.21875     0.21875   ]\n",
      " [ 0.203125    0.203125    0.203125  ]\n",
      " [ 0.1875      0.1875      0.1875    ]\n",
      " [ 0.171875    0.171875    0.171875  ]\n",
      " [ 0.15625     0.15625     0.15625   ]\n",
      " [ 0.140625    0.140625    0.140625  ]\n",
      " [ 0.125       0.125       0.125     ]\n",
      " [ 0.109375    0.109375    0.109375  ]\n",
      " [ 0.09375     0.09375     0.09375   ]\n",
      " [ 0.078125    0.078125    0.078125  ]\n",
      " [ 0.0625      0.0625      0.0625    ]\n",
      " [ 0.046875    0.046875    0.046875  ]\n",
      " [ 0.03125     0.03125     0.03125   ]\n",
      " [ 0.015625    0.015625    0.015625  ]\n",
      " [ 0.          0.          0.        ]]\n"
     ]
    }
   ],
   "source": [
    "# print(W)\n",
    "cell = [rlv1,rlv2,rlv3]\n",
    "cell = [[-1,1,1],[1,-1,1],[1,1,-1]]\n",
    "\n",
    "\n",
    "from ase import Atoms\n",
    "Npts = 100\n",
    "\n",
    "\n",
    "path_kc, q, Q = kpt.get_bandpath(path, cell, Npts)\n",
    "print(path_kc)"
   ]
  },
  {
   "cell_type": "code",
   "execution_count": 14,
   "metadata": {
    "collapsed": true
   },
   "outputs": [],
   "source": [
    "K = path_kc * 2 * np.pi / a\n",
    "\n",
    "E = np.empty([len(K),len(h),len(h)],dtype=complex)\n",
    "\n",
    "d2 = np.array([a/4,a/4,a/4])\n",
    "# d2 = a/4\n",
    "\n",
    "\n",
    "\n",
    "for kk in range(0,len(K)):\n",
    "    for i in range(0,len(h)):\n",
    "        for j in range(0,len(h)):\n",
    "            d = dij(i,j)\n",
    "            kDif = K[kk]-h[i]\n",
    "            k2 = np.dot(kDif,kDif)\n",
    "            \n",
    "            hDif = h[i] - h[j]\n",
    "            \n",
    "            hDot = np.sqrt(np.dot(hDif,hDif))\n",
    "            \n",
    "            if hDot == 2*np.pi /a * np.sqrt(3):\n",
    "                v = (-.21)\n",
    "\n",
    "            elif hDot == 2*np.pi /a * np.sqrt(8):\n",
    "                v = (.04)\n",
    "\n",
    "            elif hDot == 2*np.pi /a * np.sqrt(11):\n",
    "                v = (.08)\n",
    "                \n",
    "            else:\n",
    "                v = 0\n",
    "            \n",
    "            e = k2 * d + v + np.exp(-1j * np.dot(hDif,d2)) * v\n",
    "\n",
    "            E[kk,i,j] = e \n",
    "\n",
    "            \n",
    "    ETran2 = E[kk].T\n",
    "    ETranConj2 =  np.conj(ETran2)\n",
    "#     if np.allclose(E[kk],ETranConj2,1.e-8) == True:\n",
    "#         print(\"no\")\n"
   ]
  },
  {
   "cell_type": "code",
   "execution_count": 15,
   "metadata": {
    "collapsed": true
   },
   "outputs": [],
   "source": [
    "EignValVec2 = []\n",
    "for i in E:\n",
    "    EignValVec2.append(np.linalg.eigh(i))\n",
    "#     print(1)\n",
    "#     EignVal2, EignVec2 = np.linalg.eigh(i)\n",
    "EignVal2 = []\n",
    "EignVec2 = []\n",
    "\n",
    "for i in EignValVec2:\n",
    "#     print(2)\n",
    "    \n",
    "    EignVal2.append(i[0])\n",
    "    EignVec2.append(i[1])\n",
    "\n"
   ]
  },
  {
   "cell_type": "code",
   "execution_count": 16,
   "metadata": {},
   "outputs": [
    {
     "name": "stdout",
     "output_type": "stream",
     "text": [
      "5100\n"
     ]
    }
   ],
   "source": [
    "print(np.size(EignVal2))"
   ]
  },
  {
   "cell_type": "code",
   "execution_count": 17,
   "metadata": {},
   "outputs": [
    {
     "name": "stdout",
     "output_type": "stream",
     "text": [
      "5100\n"
     ]
    }
   ],
   "source": [
    "zipEig = np.asarray(zip(*EignVal2))\n",
    "print(np.size(zipEig))"
   ]
  },
  {
   "cell_type": "code",
   "execution_count": 18,
   "metadata": {},
   "outputs": [
    {
     "name": "stdout",
     "output_type": "stream",
     "text": [
      "100\n"
     ]
    }
   ],
   "source": [
    "print(len(zipEig[1]))"
   ]
  },
  {
   "cell_type": "code",
   "execution_count": 19,
   "metadata": {},
   "outputs": [
    {
     "data": {
      "image/png": "[encoded data removed]",
      "text/plain": [
       "<matplotlib.figure.Figure at 0x7f1a2eccaf10>"
      ]
     },
     "metadata": {},
     "output_type": "display_data"
    }
   ],
   "source": [
    "for eV in zipEig[:10]:\n",
    "#     print(eV)\n",
    "    \n",
    "    plt.plot(q,eV)\n",
    "plt.xlabel(\"Band Path\")\n",
    "plt.axis([0.,20.,-1.,2])\n",
    "plt.ylabel(\"eV\")\n",
    "plt.show()"
   ]
  },
  {
   "cell_type": "code",
   "execution_count": null,
   "metadata": {
    "collapsed": true
   },
   "outputs": [],
   "source": []
  }
 ],
 "metadata": {
  "kernelspec": {
   "display_name": "Python 2",
   "language": "python",
   "name": "python2"
  },
  "language_info": {
   "codemirror_mode": {
    "name": "ipython",
    "version": 2
   },
   "file_extension": ".py",
   "mimetype": "text/x-python",
   "name": "python",
   "nbconvert_exporter": "python",
   "pygments_lexer": "ipython2",
   "version": "2.7.12"
  }
 },
 "nbformat": 4,
 "nbformat_minor": 2
}
