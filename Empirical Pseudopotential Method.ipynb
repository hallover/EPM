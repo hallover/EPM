{
 "cells": [
  {
   "cell_type": "code",
   "execution_count": 4,
   "metadata": {
    "collapsed": true
   },
   "outputs": [],
   "source": [
    "from matplotlib import pyplot as plt\n",
    "import numpy as np\n",
    "from mpl_toolkits.mplot3d import Axes3D\n",
    "import ase.dft.kpoints as kpt"
   ]
  },
  {
   "cell_type": "code",
   "execution_count": 5,
   "metadata": {
    "collapsed": true
   },
   "outputs": [],
   "source": [
    "def dij(i,j):\n",
    "    if i == j:\n",
    "        return 1\n",
    "    else:\n",
    "        return 0"
   ]
  },
  {
   "cell_type": "code",
   "execution_count": 6,
   "metadata": {
    "collapsed": true
   },
   "outputs": [],
   "source": [
    "#initialize variables\n",
    "\n",
    "a = 10.26\n",
    "r = (2 * np.pi)/a * np.sqrt(11)\n",
    "# r = np.sqrt(11)\n",
    "\n",
    "\n",
    "rlv1 = [-2 * np.pi / a, 2 * np.pi / a, 2 * np.pi / a]\n",
    "rlv2 = [2 * np.pi / a, -2 * np.pi / a, 2 * np.pi / a]\n",
    "rlv3 = [2 * np.pi / a, 2 * np.pi / a, -2 * np.pi / a]\n",
    "\n",
    "\n",
    "# rlv1 = [-1,1,1]\n",
    "# rlv2 = [1,-1,1]\n",
    "# rlv3 = [1,1,-1]\n",
    "\n",
    "\n",
    "rlv1 = np.asarray(rlv1)\n",
    "rlv2 = np.asarray(rlv2)\n",
    "rlv3 = np.asarray(rlv3)\n",
    "\n",
    "V = 4/3 * np.pi * r**3\n"
   ]
  },
  {
   "cell_type": "code",
   "execution_count": 7,
   "metadata": {},
   "outputs": [
    {
     "name": "stdout",
     "output_type": "stream",
     "text": [
      "51\n"
     ]
    }
   ],
   "source": [
    "# define all h_i points\n",
    "# Here we need to create an array of 3-dimensional vectors who's magnitudes must be less than the radius r,\n",
    "#  and are integer linear combinations of the basis vectors rlv\n",
    "\n",
    "\n",
    "h = []\n",
    "for i in range(-3,4):\n",
    "    h1 = rlv1 * i\n",
    "    \n",
    "    for j in range(-3,4):\n",
    "        h2 = rlv2 * j\n",
    "        \n",
    "        for k in range(-3,4):\n",
    "            h3 = rlv3 * k\n",
    "            \n",
    "            hv = h1 + h2 + h3\n",
    "            hv = np.asarray(hv)\n",
    "            if np.sqrt(np.dot(hv,hv)) <= r:\n",
    "                h.append(hv)\n",
    "\n",
    "h = np.asarray(h)\n",
    "print(len(h))"
   ]
  },
  {
   "cell_type": "code",
   "execution_count": 8,
   "metadata": {},
   "outputs": [
    {
     "data": {
      "image/png": "[encoded data removed]",
      "text/plain": [
       "<matplotlib.figure.Figure at 0x7faec0627590>"
      ]
     },
     "metadata": {},
     "output_type": "display_data"
    }
   ],
   "source": [
    "# plots the points described by vectors 'h' in 3d scatterplot\n",
    "\n",
    "fig = plt.figure()\n",
    "ax = fig.add_subplot(111, projection='3d')\n",
    "ax.scatter(h[:,0],h[:,1],h[:,2])\n",
    "plt.show()"
   ]
  },
  {
   "cell_type": "code",
   "execution_count": 9,
   "metadata": {
    "collapsed": true
   },
   "outputs": [],
   "source": [
    "# Here we have a list of the position vectors describing the high symmetry k-points of the Brilluoin zone.\n",
    "# We will evaluate the energy equation for each i,j of vectors h on every k-point using three nested for loops\n",
    "\n",
    "\n",
    "\n",
    "# print(EnergyList)\n",
    "# EnergyList = np.asarray(EnergyList)\n",
    "# K = [[0,0,0],\n",
    "#      [0,.5,.5],\n",
    "#      [1./2,1./2,1./2],\n",
    "#      [1./4,3./4,1./2],\n",
    "#      [1./4,5./8,5./8],\n",
    "#      [3./8,3./4,3./8]]\n",
    "\n",
    "K = [[0,0,0],\n",
    "     [0,2*np.pi/a,0],\n",
    "     [np.pi/a,np.pi/a,np.pi/a],\n",
    "     [np.pi/a, 2*np.pi/a,0],\n",
    "     [np.pi/(2*a), 2*np.pi/a, np.pi/(2*a)],\n",
    "     [3*np.pi/(2*a), 3*np.pi/(2*a), 0]]\n",
    "\n",
    "E = np.empty([len(K),len(h),len(h)],dtype=complex)\n",
    "\n",
    "d2 = np.array([a/4,a/4,a/4])\n",
    "# d2 = a/4\n",
    "\n",
    "\n",
    "\n",
    "for kk in range(0,len(K)):\n",
    "    for i in range(0,len(h)):\n",
    "        for j in range(0,len(h)):\n",
    "            d = dij(i,j)\n",
    "            kDif = K[kk]-h[i]\n",
    "            k2 = np.dot(kDif,kDif)\n",
    "            \n",
    "            hDif = h[i] - h[j]\n",
    "            \n",
    "            hDot = np.sqrt(np.dot(hDif,hDif))\n",
    "            \n",
    "            if hDot == 2*np.pi /a * np.sqrt(3):\n",
    "                v = (-.21)\n",
    "\n",
    "            elif hDot == 2*np.pi /a * np.sqrt(8):\n",
    "                v = (.04)\n",
    "\n",
    "            elif hDot == 2*np.pi /a * np.sqrt(11):\n",
    "                v = (.08)\n",
    "                \n",
    "            else:\n",
    "                v = 0\n",
    "            \n",
    "#             print(np.exp(-1j * np.dot(hDif,d2)) * v)\n",
    "            e = k2 * d + v + np.exp(-1j * np.dot(hDif,d2)) * v\n",
    "#             print(k2)\n",
    "#             print(d)\n",
    "#             print(hDot)\n",
    "#             print(v)\n",
    "#             print(np.exp(-1j * (hDot) * d2))\n",
    "#             print(e)\n",
    "            E[kk,i,j] = e\n",
    "# print(np.linalg.eig(E[0]))\n",
    "# print(E[0])\n",
    "\n",
    "# Test if E[i] is symmetric and Hermitian\n",
    "    np.allclose(E[kk], E[kk].T, atol=1.0e-8)\n",
    "    ETran = E[kk].T\n",
    "    ETranConj =  np.conj(ETran)\n",
    "#     ETranConj = np.asarray(ETranConj)\n",
    "#     print(np.allclose(E[kk],ETranConj,1.e-8))\n",
    "#     print(type(E[kk]))\n",
    "#     print(E[kk])\n",
    "#     print(ETranConj)\n",
    "#     print(type(ETranConj))\n",
    "#     print(\"--------------------------www-----------------------------\")\n",
    "    \n",
    "    \n"
   ]
  },
  {
   "cell_type": "code",
   "execution_count": 10,
   "metadata": {
    "collapsed": true
   },
   "outputs": [],
   "source": [
    "EignValVec = []\n",
    "\n",
    "for i in E:\n",
    "    EignValVec.append(np.linalg.eigh(i))\n",
    "\n",
    "    \n",
    "EignVal = []\n",
    "EignVec = []\n",
    "\n",
    "for i in EignValVec:\n",
    "    \n",
    "#     print(i[0])\n",
    "    EignVal.append(i[0])\n",
    "    EignVec.append(i[1])\n"
   ]
  },
  {
   "cell_type": "code",
   "execution_count": 84,
   "metadata": {},
   "outputs": [],
   "source": [
    "# High-symmetry points in the Brillouin zone\n",
    "points = kpt.ibz_points['fcc']\n",
    "G = points['Gamma']\n",
    "X = points['X']\n",
    "XN = np.array([0.5, 0.5, 1.0])\n",
    "W = points['W']\n",
    "K = points['K']\n",
    "L = points['L']\n",
    "U = points['U']\n",
    "# G2 = points['Gamma2']\n",
    "\n",
    "point_names = ['$\\Gamma$', 'K', 'X', 'W', \"X'\", '$\\Gamma$', 'L']\n",
    "# path = [G, K, XN, W, X, G, L]\n",
    "# path = [L, G, X, U, G]\n",
    "path = [L, G, X, U, [1,1,1]]\n",
    "\n",
    "\n",
    "# This code is from Conrad Rosenbrock"
   ]
  },
  {
   "cell_type": "code",
   "execution_count": 85,
   "metadata": {
    "collapsed": true
   },
   "outputs": [],
   "source": [
    "# K = []\n",
    "# q = []\n",
    "\n",
    "# N = 100\n",
    "\n",
    "# x1 = np.linspace(0, 4, N, endpoint=True)\n",
    "# k_x = np.empty([N])\n",
    "# k_y = np.empty([N])\n",
    "# k_z = np.empty([N])\n",
    "\n",
    "# for n in range(0, N):\n",
    "# #     print(x1[n])\n",
    "\n",
    "#     if (x1[n] >= 0) & (x1[n] < 1):\n",
    "#         k_x[n] = np.pi/a*(1 - x1[n])\n",
    "#         k_y[n] = np.pi/a*(1 - x1[n])\n",
    "#         k_z[n] = np.pi/a*(1 - x1[n])\n",
    "\n",
    "#     elif (x1[n] >= 1) & (x1[n] < 2):\n",
    "#         k_x[n] = 0\n",
    "#         k_y[n] = 2*np.pi/a*(x1[n] - 1)\n",
    "#         k_z[n] = 0\n",
    "\n",
    "#     elif (x1[n] >= 2) & (x1[n] < 3):\n",
    "#         k_x[n] = np.pi/(2*a)*(x1[n] - 2)\n",
    "#         k_y[n] = 2*np.pi/a\n",
    "#         k_z[n] = np.pi/(2*a)*(x1[n] - 2)\n",
    "\n",
    "#     elif (x1[n] >= 3) & (x1[n] <= 4):\n",
    "#         k_x[n] = 3*np.pi/(2*a)*(x1[n] - 8/3)\n",
    "#         k_y[n] = 2*np.pi/a\n",
    "#         k_z[n] = 3*np.pi/(2*a)*(x1[n] - 8/3)\n",
    "\n",
    "#     else:\n",
    "#         k_x[n] = 0\n",
    "#         k_y[n] = 0\n",
    "#         k_z[n] = 0\n",
    "\n",
    "        \n",
    "\n",
    "#     K.append([k_x[n], k_y[n], k_z[n]])\n",
    "#     q.append(x1[n])\n",
    "# # print(k_x[nn])\n",
    "# # print(k_y[nn])\n",
    "# # print(k_z[nn])\n",
    "# # This section of code by Kacey Leavitt\n",
    "# K = np.asarray(K)\n",
    "# # print(q)"
   ]
  },
  {
   "cell_type": "code",
   "execution_count": 86,
   "metadata": {
    "scrolled": true
   },
   "outputs": [],
   "source": [
    "# print(W)\n",
    "cell = [rlv1,rlv2,rlv3]\n",
    "cell = [[-1,1,1],[1,-1,1],[1,1,-1]]\n",
    "\n",
    "\n",
    "from ase import Atoms\n",
    "Npts = 100\n",
    "\n",
    "\n",
    "path_kc, q, Q = kpt.get_bandpath(path, cell, Npts)\n",
    "# print(path_kc)\n",
    "K = path_kc * 2 * np.pi / a\n",
    "\n",
    "# print(q)"
   ]
  },
  {
   "cell_type": "code",
   "execution_count": 87,
   "metadata": {},
   "outputs": [],
   "source": [
    "\n",
    "E = np.empty([len(K),len(h),len(h)],dtype=complex)\n",
    "\n",
    "d2 = np.array([a/4,a/4,a/4])\n",
    "# d2 = a/4\n",
    "\n",
    "\n",
    "\n",
    "for kk in range(0,len(K)):\n",
    "    for i in range(0,len(h)):\n",
    "        for j in range(0,len(h)):\n",
    "            d = dij(i,j)\n",
    "            kDif = K[kk]-h[i]\n",
    "            k2 = np.dot(kDif,kDif)\n",
    "            \n",
    "            hDif = h[i] - h[j]\n",
    "            \n",
    "            hDot = np.sqrt(np.dot(hDif,hDif))\n",
    "           \n",
    "            if np.isclose(hDot, 2*np.pi/a * np.sqrt(3), 1.0e-5):\n",
    "                v = -.21\n",
    "                \n",
    "            if np.isclose(hDot, 2*np.pi/a * np.sqrt(8), 1.0e-5):\n",
    "                v = .04\n",
    "                \n",
    "            if np.isclose(hDot, 2*np.pi/a * np.sqrt(11), 1.0e-5):\n",
    "                v = .08\n",
    "        \n",
    "#             if hDot == 2*np.pi /a * np.sqrt(3):\n",
    "#                 v = (-.21)\n",
    "\n",
    "#             elif hDot == 2*np.pi /a * np.sqrt(8):\n",
    "#                 v = (.04)\n",
    "\n",
    "#             elif hDot == 2*np.pi /a * np.sqrt(11):\n",
    "#                 v = (.08)\n",
    "                \n",
    "            else:\n",
    "                v = 0\n",
    "            \n",
    "            e = k2 * d + v + np.exp(-1j * np.dot(hDif,d2)) * v\n",
    "\n",
    "            E[kk,i,j] = e \n",
    "\n",
    "            \n",
    "    ETran2 = E[kk].T\n",
    "    ETranConj2 =  np.conj(ETran2)\n",
    "#     if np.allclose(E[kk],ETranConj2,1.e-8) == True:\n",
    "#         print(\"no\")\n"
   ]
  },
  {
   "cell_type": "code",
   "execution_count": 88,
   "metadata": {
    "collapsed": true
   },
   "outputs": [],
   "source": [
    "EignValVec2 = []\n",
    "for i in E:\n",
    "    EignValVec2.append(np.linalg.eigh(i))\n",
    "#     print(1)\n",
    "#     EignVal2, EignVec2 = np.linalg.eigh(i)\n",
    "EignVal2 = []\n",
    "EignVec2 = []\n",
    "\n",
    "for i in EignValVec2:\n",
    "#     print(2)\n",
    "    \n",
    "    EignVal2.append(i[0])\n",
    "    EignVec2.append(i[1])\n",
    "\n"
   ]
  },
  {
   "cell_type": "code",
   "execution_count": 89,
   "metadata": {},
   "outputs": [
    {
     "name": "stdout",
     "output_type": "stream",
     "text": [
      "5100\n"
     ]
    }
   ],
   "source": [
    "print(np.size(EignVal2))"
   ]
  },
  {
   "cell_type": "code",
   "execution_count": 90,
   "metadata": {},
   "outputs": [
    {
     "name": "stdout",
     "output_type": "stream",
     "text": [
      "5100\n"
     ]
    }
   ],
   "source": [
    "zipEig = np.asarray(zip(*EignVal2))\n",
    "print(np.size(zipEig))"
   ]
  },
  {
   "cell_type": "code",
   "execution_count": 91,
   "metadata": {},
   "outputs": [
    {
     "name": "stdout",
     "output_type": "stream",
     "text": [
      "100\n"
     ]
    }
   ],
   "source": [
    "print(len(zipEig[1]))"
   ]
  },
  {
   "cell_type": "code",
   "execution_count": 94,
   "metadata": {},
   "outputs": [
    {
     "data": {
      "image/png": "[encoded data removed]",
      "text/plain": [
       "<matplotlib.figure.Figure at 0x7faebe1ca710>"
      ]
     },
     "metadata": {},
     "output_type": "display_data"
    }
   ],
   "source": [
    "for eV in zipEig[:9]:\n",
    "#     print(eV)\n",
    "    \n",
    "    plt.plot(q,eV)\n",
    "plt.xlabel(\"Band Path\")\n",
    "plt.axis([0.,17.,-.5,2])\n",
    "plt.ylabel(\"eV\")\n",
    "plt.show()"
   ]
  },
  {
   "cell_type": "code",
   "execution_count": null,
   "metadata": {
    "collapsed": true
   },
   "outputs": [],
   "source": []
  }
 ],
 "metadata": {
  "kernelspec": {
   "display_name": "Python 2",
   "language": "python",
   "name": "python2"
  },
  "language_info": {
   "codemirror_mode": {
    "name": "ipython",
    "version": 2
   },
   "file_extension": ".py",
   "mimetype": "text/x-python",
   "name": "python",
   "nbconvert_exporter": "python",
   "pygments_lexer": "ipython2",
   "version": "2.7.12"
  }
 },
 "nbformat": 4,
 "nbformat_minor": 2
}
