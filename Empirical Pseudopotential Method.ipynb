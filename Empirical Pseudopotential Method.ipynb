{
 "cells": [
  {
   "cell_type": "code",
   "execution_count": 1,
   "metadata": {},
   "outputs": [],
   "source": [
    "from matplotlib import pyplot as plt\n",
    "import numpy as np\n",
    "from mpl_toolkits.mplot3d import Axes3D\n",
    "import ase.dft.kpoints as kpt"
   ]
  },
  {
   "cell_type": "code",
   "execution_count": 2,
   "metadata": {
    "collapsed": true
   },
   "outputs": [],
   "source": [
    "# A = []\n",
    "# A[i,j]=ki**2 * dij(i,j) + V1(hi-hj) + np.exp(-i*(hi-hj) * d2)*V2(hi-hj)"
   ]
  },
  {
   "cell_type": "code",
   "execution_count": 3,
   "metadata": {
    "collapsed": true
   },
   "outputs": [],
   "source": [
    "def dij(i,j):\n",
    "    if i == j:\n",
    "        return 1\n",
    "    else:\n",
    "        return 0"
   ]
  },
  {
   "cell_type": "code",
   "execution_count": 24,
   "metadata": {
    "collapsed": true
   },
   "outputs": [],
   "source": [
    "#initialize variables\n",
    "\n",
    "a = 10.26\n",
    "r = (2 * np.pi)/a * np.sqrt(11)\n",
    "\n",
    "rlv1 = [-2 * np.pi / a, 2 * np.pi / a, 2 * np.pi / a]\n",
    "rlv2 = [2 * np.pi / a, -2 * np.pi / a, 2 * np.pi / a]\n",
    "rlv3 = [2 * np.pi / a, 2 * np.pi / a, -2 * np.pi / a]\n",
    "\n",
    "rlv1 = np.asarray(rlv1)\n",
    "rlv2 = np.asarray(rlv2)\n",
    "rlv3 = np.asarray(rlv3)\n",
    "\n",
    "V = 4/3 * np.pi * r**3\n"
   ]
  },
  {
   "cell_type": "code",
   "execution_count": 25,
   "metadata": {},
   "outputs": [
    {
     "name": "stdout",
     "output_type": "stream",
     "text": [
      "51\n"
     ]
    }
   ],
   "source": [
    "# define all h_i points\n",
    "\n",
    "h = []\n",
    "for i in range(-3,4):\n",
    "    h1 = rlv1 * i\n",
    "    \n",
    "    for j in range(-3,4):\n",
    "        h2 = rlv2 * j\n",
    "        \n",
    "        for k in range(-3,4):\n",
    "            h3 = rlv3 * k\n",
    "            \n",
    "            hv = h1 + h2 + h3\n",
    "            hv = np.asarray(hv)\n",
    "            if np.sqrt(np.dot(hv,hv)) <= r:\n",
    "                h.append(hv)\n",
    "\n",
    "h = np.asarray(h)\n",
    "print(len(h))"
   ]
  },
  {
   "cell_type": "code",
   "execution_count": 26,
   "metadata": {},
   "outputs": [
    {
     "data": {
      "image/png": "[encoded data removed]",
      "text/plain": [
       "<matplotlib.figure.Figure at 0x7f2e84bbc590>"
      ]
     },
     "metadata": {},
     "output_type": "display_data"
    }
   ],
   "source": [
    "# plots the points described by vectors 'h' in 3d scatterplot\n",
    "\n",
    "fig = plt.figure()\n",
    "ax = fig.add_subplot(111, projection='3d')\n",
    "ax.scatter(h[:,0],h[:,1],h[:,2])\n",
    "plt.show()"
   ]
  },
  {
   "cell_type": "code",
   "execution_count": 42,
   "metadata": {},
   "outputs": [],
   "source": [
    "# print(EnergyList)\n",
    "# EnergyList = np.asarray(EnergyList)\n",
    "# K = [[0,0,0],\n",
    "#      [0,.5,.5],\n",
    "#      [1./2,1./2,1./2],\n",
    "#      [1./4,3./4,1./2],\n",
    "#      [1./4,5./8,5./8],\n",
    "#      [3./8,3./4,3./8]]\n",
    "\n",
    "K = [[0,0,0],\n",
    "     [0,2*np.pi/a,0],\n",
    "     [np.pi/a,np.pi/a,np.pi/a],\n",
    "     [np.pi/a, 2*np.pi/a,0],\n",
    "     [np.pi/(2*a), 2*np.pi/a, np.pi/(2*a)],\n",
    "     [3*np.pi/(2*a), 3*np.pi/(2*a), 0]]\n",
    "\n",
    "E = np.empty([len(K),len(h),len(h)],dtype=complex)\n",
    "\n",
    "d2 = np.array([a/4,a/4,a/4])\n",
    "# d2 = a/4\n",
    "\n",
    "\n",
    "\n",
    "for kk in range(0,len(K)):\n",
    "    for i in range(0,len(h)):\n",
    "        for j in range(0,len(h)):\n",
    "            d = dij(i,j)\n",
    "            kDif = K[kk]-h[i]\n",
    "            k2 = np.dot(kDif,kDif)\n",
    "            \n",
    "            hDif = h[i] - h[j]\n",
    "            \n",
    "            hDot = np.sqrt(np.dot(hDif,hDif))\n",
    "            \n",
    "            if hDot == 2*np.pi /a * np.sqrt(3):\n",
    "                v = (-.21)\n",
    "\n",
    "            elif hDot == 2*np.pi /a * np.sqrt(8):\n",
    "                v = (.04)\n",
    "\n",
    "            elif hDot == 2*np.pi /a * np.sqrt(11):\n",
    "                v = (.08)\n",
    "                \n",
    "            else:\n",
    "                v = 0\n",
    "            \n",
    "            e = k2 * d + v + np.exp(-1j * np.dot(hDif,d2)) * v\n",
    "#             print(k2)\n",
    "#             print(d)\n",
    "#             print(hDot)\n",
    "#             print(v)\n",
    "#             print(np.exp(-1j * (hDot) * d2))\n",
    "#             print(e)\n",
    "            E[kk,i,j] = e \n",
    "# print(np.linalg.eig(E[0]))\n",
    "# print(E[0])\n",
    "\n",
    "# Test if E[i] is symmetric and Hermitian\n",
    "    np.allclose(E[kk], E[kk].T, atol=1.0e-8)\n",
    "    ETran = E[kk].T\n",
    "    ETranConj =  np.conj(ETran)\n",
    "#     ETranConj = np.asarray(ETranConj)\n",
    "#     print(np.allclose(E[kk],ETranConj,1.e-8))\n",
    "#     print(type(E[kk]))\n",
    "#     print(E[kk])\n",
    "#     print(ETranConj)\n",
    "#     print(type(ETranConj))\n",
    "#     print(\"--------------------------www-----------------------------\")\n",
    "    \n",
    "    \n",
    "    \n"
   ]
  },
  {
   "cell_type": "code",
   "execution_count": 28,
   "metadata": {},
   "outputs": [],
   "source": [
    "EignValVec = []\n",
    "\n",
    "for i in E:\n",
    "    EignValVec.append(np.linalg.eigh(i))"
   ]
  },
  {
   "cell_type": "code",
   "execution_count": 29,
   "metadata": {},
   "outputs": [],
   "source": [
    "EignVal = []\n",
    "EignVec = []\n",
    "\n",
    "for i in EignValVec:\n",
    "    \n",
    "#     print(i[0])\n",
    "    EignVal.append(i[0])\n",
    "    EignVec.append(i[1])\n"
   ]
  },
  {
   "cell_type": "code",
   "execution_count": 30,
   "metadata": {},
   "outputs": [],
   "source": [
    "# for i in range(0,len(EignValVec[i])):\n",
    "#     print(EignValVec[i][0])\n",
    "    "
   ]
  },
  {
   "cell_type": "code",
   "execution_count": 31,
   "metadata": {},
   "outputs": [],
   "source": [
    "# print(EignVal)"
   ]
  },
  {
   "cell_type": "code",
   "execution_count": 78,
   "metadata": {},
   "outputs": [],
   "source": [
    "# High-symmetry points in the Brillouin zone\n",
    "points = kpt.ibz_points['fcc']\n",
    "G = points['Gamma']\n",
    "X = points['X']\n",
    "XN = np.array([0.5, 0.5, 1.0])\n",
    "W = points['W']\n",
    "K = points['K']\n",
    "L = points['L']\n",
    "U = points['U']\n",
    "\n",
    "point_names = ['$\\Gamma$', 'K', 'X', 'W', \"X'\", '$\\Gamma$', 'L']\n",
    "# path = [G, K, XN, W, X, G, L]\n",
    "path = [L, G, X, U, G]\n",
    "\n",
    "\n",
    "\n",
    "# This code is from Conrad Rosenbrock"
   ]
  },
  {
   "cell_type": "code",
   "execution_count": 71,
   "metadata": {
    "scrolled": true
   },
   "outputs": [
    {
     "name": "stdout",
     "output_type": "stream",
     "text": [
      "[[ 0.5         0.5         0.5       ]\n",
      " [ 0.484375    0.484375    0.484375  ]\n",
      " [ 0.46875     0.46875     0.46875   ]\n",
      " [ 0.453125    0.453125    0.453125  ]\n",
      " [ 0.4375      0.4375      0.4375    ]\n",
      " [ 0.421875    0.421875    0.421875  ]\n",
      " [ 0.40625     0.40625     0.40625   ]\n",
      " [ 0.390625    0.390625    0.390625  ]\n",
      " [ 0.375       0.375       0.375     ]\n",
      " [ 0.359375    0.359375    0.359375  ]\n",
      " [ 0.34375     0.34375     0.34375   ]\n",
      " [ 0.328125    0.328125    0.328125  ]\n",
      " [ 0.3125      0.3125      0.3125    ]\n",
      " [ 0.296875    0.296875    0.296875  ]\n",
      " [ 0.28125     0.28125     0.28125   ]\n",
      " [ 0.265625    0.265625    0.265625  ]\n",
      " [ 0.25        0.25        0.25      ]\n",
      " [ 0.234375    0.234375    0.234375  ]\n",
      " [ 0.21875     0.21875     0.21875   ]\n",
      " [ 0.203125    0.203125    0.203125  ]\n",
      " [ 0.1875      0.1875      0.1875    ]\n",
      " [ 0.171875    0.171875    0.171875  ]\n",
      " [ 0.15625     0.15625     0.15625   ]\n",
      " [ 0.140625    0.140625    0.140625  ]\n",
      " [ 0.125       0.125       0.125     ]\n",
      " [ 0.109375    0.109375    0.109375  ]\n",
      " [ 0.09375     0.09375     0.09375   ]\n",
      " [ 0.078125    0.078125    0.078125  ]\n",
      " [ 0.0625      0.0625      0.0625    ]\n",
      " [ 0.046875    0.046875    0.046875  ]\n",
      " [ 0.03125     0.03125     0.03125   ]\n",
      " [ 0.015625    0.015625    0.015625  ]\n",
      " [ 0.          0.          0.        ]\n",
      " [ 0.02272727  0.          0.02272727]\n",
      " [ 0.04545455  0.          0.04545455]\n",
      " [ 0.06818182  0.          0.06818182]\n",
      " [ 0.09090909  0.          0.09090909]\n",
      " [ 0.11363636  0.          0.11363636]\n",
      " [ 0.13636364  0.          0.13636364]\n",
      " [ 0.15909091  0.          0.15909091]\n",
      " [ 0.18181818  0.          0.18181818]\n",
      " [ 0.20454545  0.          0.20454545]\n",
      " [ 0.22727273  0.          0.22727273]\n",
      " [ 0.25        0.          0.25      ]\n",
      " [ 0.27272727  0.          0.27272727]\n",
      " [ 0.29545455  0.          0.29545455]\n",
      " [ 0.31818182  0.          0.31818182]\n",
      " [ 0.34090909  0.          0.34090909]\n",
      " [ 0.36363636  0.          0.36363636]\n",
      " [ 0.38636364  0.          0.38636364]\n",
      " [ 0.40909091  0.          0.40909091]\n",
      " [ 0.43181818  0.          0.43181818]\n",
      " [ 0.45454545  0.          0.45454545]\n",
      " [ 0.47727273  0.          0.47727273]\n",
      " [ 0.5         0.          0.5       ]\n",
      " [ 0.51136364  0.02272727  0.51136364]\n",
      " [ 0.52272727  0.04545455  0.52272727]\n",
      " [ 0.53409091  0.06818182  0.53409091]\n",
      " [ 0.54545455  0.09090909  0.54545455]\n",
      " [ 0.55681818  0.11363636  0.55681818]\n",
      " [ 0.56818182  0.13636364  0.56818182]\n",
      " [ 0.57954545  0.15909091  0.57954545]\n",
      " [ 0.59090909  0.18181818  0.59090909]\n",
      " [ 0.60227273  0.20454545  0.60227273]\n",
      " [ 0.61363636  0.22727273  0.61363636]\n",
      " [ 0.625       0.25        0.625     ]\n",
      " [ 0.60661765  0.24264706  0.60661765]\n",
      " [ 0.58823529  0.23529412  0.58823529]\n",
      " [ 0.56985294  0.22794118  0.56985294]\n",
      " [ 0.55147059  0.22058824  0.55147059]\n",
      " [ 0.53308824  0.21323529  0.53308824]\n",
      " [ 0.51470588  0.20588235  0.51470588]\n",
      " [ 0.49632353  0.19852941  0.49632353]\n",
      " [ 0.47794118  0.19117647  0.47794118]\n",
      " [ 0.45955882  0.18382353  0.45955882]\n",
      " [ 0.44117647  0.17647059  0.44117647]\n",
      " [ 0.42279412  0.16911765  0.42279412]\n",
      " [ 0.40441176  0.16176471  0.40441176]\n",
      " [ 0.38602941  0.15441176  0.38602941]\n",
      " [ 0.36764706  0.14705882  0.36764706]\n",
      " [ 0.34926471  0.13970588  0.34926471]\n",
      " [ 0.33088235  0.13235294  0.33088235]\n",
      " [ 0.3125      0.125       0.3125    ]\n",
      " [ 0.29411765  0.11764706  0.29411765]\n",
      " [ 0.27573529  0.11029412  0.27573529]\n",
      " [ 0.25735294  0.10294118  0.25735294]\n",
      " [ 0.23897059  0.09558824  0.23897059]\n",
      " [ 0.22058824  0.08823529  0.22058824]\n",
      " [ 0.20220588  0.08088235  0.20220588]\n",
      " [ 0.18382353  0.07352941  0.18382353]\n",
      " [ 0.16544118  0.06617647  0.16544118]\n",
      " [ 0.14705882  0.05882353  0.14705882]\n",
      " [ 0.12867647  0.05147059  0.12867647]\n",
      " [ 0.11029412  0.04411765  0.11029412]\n",
      " [ 0.09191176  0.03676471  0.09191176]\n",
      " [ 0.07352941  0.02941176  0.07352941]\n",
      " [ 0.05514706  0.02205882  0.05514706]\n",
      " [ 0.03676471  0.01470588  0.03676471]\n",
      " [ 0.01838235  0.00735294  0.01838235]\n",
      " [ 0.          0.          0.        ]]\n"
     ]
    }
   ],
   "source": [
    "# print(W)\n",
    "# cell = [rlv1,rlv2,rlv3]\n",
    "cell = [[-1,1,1],[1,-1,1],[1,1,-1]]\n",
    "\n",
    "\n",
    "from ase import Atoms\n",
    "Npts = 100\n",
    "\n",
    "\n",
    "path_kc, q, Q = kpt.get_bandpath(path, cell, Npts)\n",
    "print(path_kc)"
   ]
  },
  {
   "cell_type": "code",
   "execution_count": 79,
   "metadata": {},
   "outputs": [],
   "source": [
    "K = path_kc * 2 * np.pi / a\n",
    "\n",
    "E = np.empty([len(K),len(h),len(h)],dtype=complex)\n",
    "\n",
    "d2 = np.array([a/4,a/4,a/4])\n",
    "# d2 = a/4\n",
    "\n",
    "\n",
    "\n",
    "for kk in range(0,len(K)):\n",
    "    for i in range(0,len(h)):\n",
    "        for j in range(0,len(h)):\n",
    "            d = dij(i,j)\n",
    "            kDif = K[kk]-h[i]\n",
    "            k2 = np.dot(kDif,kDif)\n",
    "            \n",
    "            hDif = h[i] - h[j]\n",
    "            \n",
    "            hDot = np.sqrt(np.dot(hDif,hDif))\n",
    "            \n",
    "            if hDot == 2*np.pi /a * np.sqrt(3):\n",
    "                v = (-.21)\n",
    "\n",
    "            elif hDot == 2*np.pi /a * np.sqrt(8):\n",
    "                v = (.04)\n",
    "\n",
    "            elif hDot == 2*np.pi /a * np.sqrt(11):\n",
    "                v = (.08)\n",
    "                \n",
    "            else:\n",
    "                v = 0\n",
    "            \n",
    "            e = k2 * d + v + np.exp(-1j * np.dot(hDif,d2)) * v\n",
    "\n",
    "            E[kk,i,j] = e \n",
    "\n",
    "            \n",
    "    ETran2 = E[kk].T\n",
    "    ETranConj2 =  np.conj(ETran2)\n",
    "#     if np.allclose(E[kk],ETranConj2,1.e-8) == True:\n",
    "#         print(\"no\")\n"
   ]
  },
  {
   "cell_type": "code",
   "execution_count": 80,
   "metadata": {},
   "outputs": [],
   "source": [
    "EignValVec2 = []\n",
    "for i in E:\n",
    "    EignValVec2.append(np.linalg.eigh(i))\n",
    "#     print(1)\n",
    "#     EignVal2, EignVec2 = np.linalg.eigh(i)\n",
    "EignVal2 = []\n",
    "EignVec2 = []\n",
    "\n",
    "for i in EignValVec2:\n",
    "#     print(2)\n",
    "    \n",
    "    EignVal2.append(i[0])\n",
    "    EignVec2.append(i[1])\n",
    "\n"
   ]
  },
  {
   "cell_type": "code",
   "execution_count": 81,
   "metadata": {},
   "outputs": [
    {
     "name": "stdout",
     "output_type": "stream",
     "text": [
      "5100\n"
     ]
    }
   ],
   "source": [
    "print(np.size(EignVal2))"
   ]
  },
  {
   "cell_type": "code",
   "execution_count": 82,
   "metadata": {},
   "outputs": [
    {
     "name": "stdout",
     "output_type": "stream",
     "text": [
      "5100\n"
     ]
    }
   ],
   "source": [
    "zipEig = np.asarray(zip(*EignVal2))\n",
    "print(np.size(zipEig))"
   ]
  },
  {
   "cell_type": "code",
   "execution_count": 83,
   "metadata": {},
   "outputs": [
    {
     "name": "stdout",
     "output_type": "stream",
     "text": [
      "100\n"
     ]
    }
   ],
   "source": [
    "print(len(zipEig[1]))"
   ]
  },
  {
   "cell_type": "code",
   "execution_count": 85,
   "metadata": {},
   "outputs": [
    {
     "data": {
      "image/png": "[encoded data removed]",
      "text/plain": [
       "<matplotlib.figure.Figure at 0x7f2e87491e90>"
      ]
     },
     "metadata": {},
     "output_type": "display_data"
    }
   ],
   "source": [
    "for eV in zipEig[:8]:\n",
    "#     print(eV)\n",
    "    \n",
    "    plt.plot(q,eV)\n",
    "plt.xlabel(\"Band Path\")\n",
    "plt.axis([0.,25.,-1.,2])\n",
    "plt.ylabel(\"eV\")\n",
    "plt.show()"
   ]
  },
  {
   "cell_type": "code",
   "execution_count": null,
   "metadata": {
    "collapsed": true
   },
   "outputs": [],
   "source": []
  }
 ],
 "metadata": {
  "kernelspec": {
   "display_name": "Python 2",
   "language": "python",
   "name": "python2"
  },
  "language_info": {
   "codemirror_mode": {
    "name": "ipython",
    "version": 2
   },
   "file_extension": ".py",
   "mimetype": "text/x-python",
   "name": "python",
   "nbconvert_exporter": "python",
   "pygments_lexer": "ipython2",
   "version": "2.7.12"
  }
 },
 "nbformat": 4,
 "nbformat_minor": 2
}
